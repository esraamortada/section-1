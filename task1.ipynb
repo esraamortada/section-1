{
 "cells": [
  {
   "cell_type": "code",
   "execution_count": 24,
   "id": "9e6f971c",
   "metadata": {},
   "outputs": [],
   "source": [
    "import cobra"
   ]
  },
  {
   "cell_type": "code",
   "execution_count": 25,
   "id": "5a7fe17a",
   "metadata": {},
   "outputs": [],
   "source": [
    "from cobra import Model,Reaction, Metabolite"
   ]
  },
  {
   "cell_type": "code",
   "execution_count": 26,
   "id": "47f2ff9c",
   "metadata": {},
   "outputs": [],
   "source": [
    "model= Model(\"esraa122\")\n",
    "\n",
    "e1=Reaction('e1')\n",
    "e1.name='e1'\n",
    "e1.lower_bound=0\n",
    "e1.upper_bound=1000"
   ]
  },
  {
   "cell_type": "code",
   "execution_count": 27,
   "id": "3e802819",
   "metadata": {},
   "outputs": [],
   "source": [
    "e2=Reaction('e2')\n",
    "e2.name='e2'\n",
    "e2.lower_bound=0\n",
    "e2.upper_bound=1000"
   ]
  },
  {
   "cell_type": "code",
   "execution_count": 28,
   "id": "367fac1e",
   "metadata": {},
   "outputs": [],
   "source": [
    "e0=Reaction('e0')\n",
    "e0.name='e0'\n",
    "e0.lower_bound=1\n",
    "e0.upper_bound=1"
   ]
  },
  {
   "cell_type": "code",
   "execution_count": 29,
   "id": "ae379016",
   "metadata": {},
   "outputs": [],
   "source": [
    "D=Reaction('D')\n",
    "D.name='D'\n",
    "D.lower_bound=0\n",
    "D.upper_bound=1000"
   ]
  },
  {
   "cell_type": "code",
   "execution_count": 30,
   "id": "70efd7c7",
   "metadata": {},
   "outputs": [],
   "source": [
    "ATP_R=Reaction('ATP_R')\n",
    "ATP_R.name='ATP_R'\n",
    "ATP_R.lower_bound=0\n",
    "ATP_R.upper_bound=1000"
   ]
  },
  {
   "cell_type": "code",
   "execution_count": 31,
   "id": "0bfc1b06",
   "metadata": {},
   "outputs": [],
   "source": [
    "e3=Reaction('e3')\n",
    "ATP_R.name='e3'\n",
    "ATP_R.lower_bound=.9\n",
    "ATP_R.upper_bound=.9"
   ]
  },
  {
   "cell_type": "code",
   "execution_count": 32,
   "id": "6809571f",
   "metadata": {},
   "outputs": [],
   "source": [
    "A= Metabolite('A',compartment='c')\n",
    "B=Metabolite('B',compartment='c')\n",
    "C= Metabolite('C',compartment='c')"
   ]
  },
  {
   "cell_type": "code",
   "execution_count": 33,
   "id": "a6b6cede",
   "metadata": {},
   "outputs": [],
   "source": [
    "ATP= Metabolite('ATP',compartment='c')"
   ]
  },
  {
   "cell_type": "code",
   "execution_count": 34,
   "id": "ef81a535",
   "metadata": {},
   "outputs": [],
   "source": [
    "e1.add_metabolites({A:-1,B:1})\n"
   ]
  },
  {
   "cell_type": "code",
   "execution_count": 35,
   "id": "8c6549ce",
   "metadata": {},
   "outputs": [],
   "source": [
    "e2.add_metabolites({B:-1,C:1})"
   ]
  },
  {
   "cell_type": "code",
   "execution_count": 36,
   "id": "3e690f5d",
   "metadata": {},
   "outputs": [],
   "source": [
    "e0.add_metabolites({A:1})"
   ]
  },
  {
   "cell_type": "code",
   "execution_count": 37,
   "id": "31fc8ddd",
   "metadata": {},
   "outputs": [],
   "source": [
    "D.add_metabolites({C:-1})"
   ]
  },
  {
   "cell_type": "code",
   "execution_count": 38,
   "id": "7fad227b",
   "metadata": {},
   "outputs": [],
   "source": [
    "ATP_R.add_metabolites({A:-1,ATP:1})"
   ]
  },
  {
   "cell_type": "code",
   "execution_count": 39,
   "id": "1184453c",
   "metadata": {},
   "outputs": [],
   "source": [
    "e3.add_metabolites({ATP:-1})"
   ]
  },
  {
   "cell_type": "code",
   "execution_count": 40,
   "id": "ffe7dd0d",
   "metadata": {},
   "outputs": [],
   "source": [
    "model.add_reactions([e0,e1,ATP_R,e2,e3,D])"
   ]
  },
  {
   "cell_type": "code",
   "execution_count": 41,
   "id": "32c18d76",
   "metadata": {},
   "outputs": [],
   "source": [
    "model.objective = 'D'"
   ]
  },
  {
   "cell_type": "code",
   "execution_count": 42,
   "id": "653e3742",
   "metadata": {},
   "outputs": [
    {
     "data": {
      "text/html": [
       "<strong><em>Optimal</em> solution with objective value 0.100</strong><br><div>\n",
       "<style scoped>\n",
       "    .dataframe tbody tr th:only-of-type {\n",
       "        vertical-align: middle;\n",
       "    }\n",
       "\n",
       "    .dataframe tbody tr th {\n",
       "        vertical-align: top;\n",
       "    }\n",
       "\n",
       "    .dataframe thead th {\n",
       "        text-align: right;\n",
       "    }\n",
       "</style>\n",
       "<table border=\"1\" class=\"dataframe\">\n",
       "  <thead>\n",
       "    <tr style=\"text-align: right;\">\n",
       "      <th></th>\n",
       "      <th>fluxes</th>\n",
       "      <th>reduced_costs</th>\n",
       "    </tr>\n",
       "  </thead>\n",
       "  <tbody>\n",
       "    <tr>\n",
       "      <th>e0</th>\n",
       "      <td>1.0</td>\n",
       "      <td>2.0</td>\n",
       "    </tr>\n",
       "    <tr>\n",
       "      <th>e1</th>\n",
       "      <td>0.1</td>\n",
       "      <td>0.0</td>\n",
       "    </tr>\n",
       "    <tr>\n",
       "      <th>ATP_R</th>\n",
       "      <td>0.9</td>\n",
       "      <td>-2.0</td>\n",
       "    </tr>\n",
       "    <tr>\n",
       "      <th>e2</th>\n",
       "      <td>0.1</td>\n",
       "      <td>0.0</td>\n",
       "    </tr>\n",
       "    <tr>\n",
       "      <th>e3</th>\n",
       "      <td>0.9</td>\n",
       "      <td>0.0</td>\n",
       "    </tr>\n",
       "    <tr>\n",
       "      <th>D</th>\n",
       "      <td>0.1</td>\n",
       "      <td>0.0</td>\n",
       "    </tr>\n",
       "  </tbody>\n",
       "</table>\n",
       "</div>"
      ],
      "text/plain": [
       "<Solution 0.100 at 0x1e77218a8b0>"
      ]
     },
     "execution_count": 42,
     "metadata": {},
     "output_type": "execute_result"
    }
   ],
   "source": [
    "model.optimize()"
   ]
  },
  {
   "cell_type": "code",
   "execution_count": 43,
   "id": "cb836b49",
   "metadata": {},
   "outputs": [
    {
     "data": {
      "text/html": [
       "<h3>Objective</h3><p>1.0 D = 0.09999999999999998</p><h4>Uptake</h4><table border=\"1\" class=\"dataframe\">\n",
       "  <thead>\n",
       "    <tr style=\"text-align: right;\">\n",
       "      <th>Metabolite</th>\n",
       "      <th>Reaction</th>\n",
       "      <th>Flux</th>\n",
       "      <th>C-Number</th>\n",
       "      <th>C-Flux</th>\n",
       "    </tr>\n",
       "  </thead>\n",
       "  <tbody>\n",
       "    <tr>\n",
       "      <td>A</td>\n",
       "      <td>e0</td>\n",
       "      <td>1</td>\n",
       "      <td>0</td>\n",
       "      <td>0.00%</td>\n",
       "    </tr>\n",
       "  </tbody>\n",
       "</table><h4>Secretion</h4><table border=\"1\" class=\"dataframe\">\n",
       "  <thead>\n",
       "    <tr style=\"text-align: right;\">\n",
       "      <th>Metabolite</th>\n",
       "      <th>Reaction</th>\n",
       "      <th>Flux</th>\n",
       "      <th>C-Number</th>\n",
       "      <th>C-Flux</th>\n",
       "    </tr>\n",
       "  </thead>\n",
       "  <tbody>\n",
       "    <tr>\n",
       "      <td>C</td>\n",
       "      <td>D</td>\n",
       "      <td>-0.1</td>\n",
       "      <td>0</td>\n",
       "      <td>0.00%</td>\n",
       "    </tr>\n",
       "    <tr>\n",
       "      <td>ATP</td>\n",
       "      <td>e3</td>\n",
       "      <td>-0.9</td>\n",
       "      <td>0</td>\n",
       "      <td>0.00%</td>\n",
       "    </tr>\n",
       "  </tbody>\n",
       "</table>"
      ],
      "text/plain": [
       "<cobra.summary.model_summary.ModelSummary at 0x1e77218aa00>"
      ]
     },
     "execution_count": 43,
     "metadata": {},
     "output_type": "execute_result"
    }
   ],
   "source": [
    "model.summary()"
   ]
  },
  {
   "cell_type": "code",
   "execution_count": null,
   "id": "6583621c",
   "metadata": {},
   "outputs": [],
   "source": []
  }
 ],
 "metadata": {
  "kernelspec": {
   "display_name": "Python 3 (ipykernel)",
   "language": "python",
   "name": "python3"
  },
  "language_info": {
   "codemirror_mode": {
    "name": "ipython",
    "version": 3
   },
   "file_extension": ".py",
   "mimetype": "text/x-python",
   "name": "python",
   "nbconvert_exporter": "python",
   "pygments_lexer": "ipython3",
   "version": "3.9.7"
  }
 },
 "nbformat": 4,
 "nbformat_minor": 5
}
